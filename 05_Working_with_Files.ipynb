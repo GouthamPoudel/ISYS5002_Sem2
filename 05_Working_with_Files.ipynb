{
  "cells": [
    {
      "cell_type": "markdown",
      "metadata": {
        "id": "view-in-github",
        "colab_type": "text"
      },
      "source": [
        "<a href=\"https://colab.research.google.com/github/GouthamPoudel/ISYS5002_Sem2/blob/main/05_Working_with_Files.ipynb\" target=\"_parent\"><img src=\"https://colab.research.google.com/assets/colab-badge.svg\" alt=\"Open In Colab\"/></a>"
      ]
    },
    {
      "cell_type": "markdown",
      "metadata": {
        "id": "b5IJBQVMWWWZ"
      },
      "source": [
        "# **File Input & Output**\n",
        "For program to retain data between the times it is run, you must save the data\n",
        "- Data is saved to a file, typically on computer disk\n",
        "- Saved data can be retrieved and used at a later time\n",
        "\n",
        "“***Writing data to***”: saving data on a file\n",
        "<br>***Output file***: a file that data is written to\n",
        "<br>*“**Reading data from**”*: process of retrieving data from a file\n",
        "<br>***Input file***: a file from which data is read\n",
        "\n",
        "Three steps when a program uses a file\n",
        "- Open the file\n",
        "- Process the file\n",
        "- Close the file\n",
        "\n",
        "**Types of files**\n",
        "<br>\n",
        "- A **text file** is a sequence of characters\n",
        "- A **binary file** (for images, videos and more) is a sequence of bytes\n",
        "- First character in a text file or byte in a binary file is located at position 0\n",
        "  - In a file of n characters or bytes, the highest position number is n – 1 (**end-of-file marker**)\n",
        "- For each file you **open**, Python creates a **file object** that you’ll use to interact with the file\n",
        "\n",
        "\n",
        "**Comma-separated values (CSV) file**\n",
        "- CSV files are the most common format used for importing and exporting data from spreadsheets and databases.\n",
        "- CSV files are text files that have delimiters. A delimiter is a character that separates data values.\n",
        "\n"
      ]
    },
    {
      "cell_type": "markdown",
      "metadata": {
        "id": "p9aQsBRQxt7k"
      },
      "source": [
        "# Text File"
      ]
    },
    {
      "cell_type": "markdown",
      "source": [
        "## File `open` Function\n",
        "\n",
        "`file_variable = open(filename, mode)`\n",
        "\n",
        "**Mode**: string specifying how the file will be opened\n",
        "\n",
        "Example: reading only ('r'), writing ('w'), and appending ('a')\n",
        "\n",
        "\n",
        "https://www.w3schools.com/python/python_file_handling.asp"
      ],
      "metadata": {
        "id": "MfuOy9XdK7yR"
      }
    },
    {
      "cell_type": "code",
      "execution_count": 1,
      "metadata": {
        "id": "pIxETi9m8Ghq"
      },
      "outputs": [],
      "source": [
        "#open a file named customers.txt\n",
        "file = open(\"customer.txt\", 'w')"
      ]
    },
    {
      "cell_type": "markdown",
      "metadata": {
        "id": "oO9aBCoBvb5x"
      },
      "source": [
        "### Writing Text File"
      ]
    },
    {
      "cell_type": "code",
      "execution_count": 10,
      "metadata": {
        "id": "LEdRqwURsHBb"
      },
      "outputs": [],
      "source": [
        "### Create a text file named accounts.txt for writing ###\n",
        "\n",
        "#open file in write mode\n",
        "file = open(\"accounts.txt\", 'w')\n",
        "\n",
        "#write three customers names into the file\n",
        "\n",
        "file.write(\"Jacob\\n\")\n",
        "file.write(\"Sara\\n\")\n",
        "\n",
        "#writes the items of a list to the file\n",
        "\n",
        "file.writelines(\"Nancy\\nJonny\")\n",
        "\n",
        "#close the file\n",
        "\n",
        "file.close()\n"
      ]
    },
    {
      "cell_type": "markdown",
      "source": [
        "### Reading Text File"
      ],
      "metadata": {
        "id": "qVEQ7k4WLeJ5"
      }
    },
    {
      "cell_type": "code",
      "execution_count": 9,
      "metadata": {
        "id": "JtZjegwUsUss",
        "colab": {
          "base_uri": "https://localhost:8080/"
        },
        "outputId": "b16e9363-87c1-4ba5-817d-01d2332db7ab"
      },
      "outputs": [
        {
          "output_type": "stream",
          "name": "stdout",
          "text": [
            "Jacob\n",
            "\n",
            "Sara\n",
            "\n",
            "Nancy\n",
            "\n",
            "Jonny\n"
          ]
        }
      ],
      "source": [
        "### Reading data from a text file - customers.txt ###\n",
        "\n",
        "#open file in read mode\n",
        "\n",
        "file = open(\"accounts.txt\", 'r')\n",
        "\n",
        "#print the records read from the file\n",
        "#print(file.readline())\n",
        "#print(file.readline())\n",
        "#print each line iteratively\n",
        "\n",
        "for row in file:\n",
        "  print(row)\n",
        "\n",
        "#close file\n",
        "file.close()\n"
      ]
    },
    {
      "cell_type": "markdown",
      "metadata": {
        "id": "lmYx04AD6YnM"
      },
      "source": [
        "### Writing & Reading with the `with` statement\n",
        "\n",
        "- Acquires a resource and assigns its corresponding object to a variable\n",
        "- Allows the application to use the resource via that variable\n",
        "- Calls the resource object’s close method to release the resource\n",
        "\n",
        "Advantage of using a `with` statement with a file open is that when the `with` statement code block ends, the file closes.\n",
        "\n",
        "At the end of the with statement’s suite, the `with` statement *implicitly* calls the file object’s `close` method to close the file\n",
        "\n",
        "**Records**\n",
        "* 100 Jones 24.98 \n",
        "* 200 Doe 345.67 \n",
        "* 300 Williams 0.00 \n",
        "* 400 Stone -42.16 \n",
        "* 500 Rich 224.62"
      ]
    },
    {
      "cell_type": "code",
      "execution_count": 12,
      "metadata": {
        "id": "mc2NDGan6pQi"
      },
      "outputs": [],
      "source": [
        "### Write and reading from file using 'with' statement ###\n",
        "\n",
        "# Open file for writing and write records\n",
        "with open(\"accounts.txt\",'w') as account:\n",
        "  account.write('100 Jones 24.98\\n')\n",
        "  account.write('200 Doe 345.67\\n')\n",
        "  account.write('300 Williams 0.00\\n')\n",
        "  account.write('400 Stone -42.16\\n')\n",
        "  account.write('500 Rich 224.62') "
      ]
    },
    {
      "cell_type": "code",
      "source": [
        "### Reading from file ###\n",
        "with open(\"accounts.txt\", 'r') as accountsRead:\n",
        "  print(f'{\"AccountID\":10} {\"Name\":10} {\"Balance\":8}')\n",
        "  for record in accountsRead:\n",
        "   # print(record)\n",
        "\n",
        "   accountID, name, balance = record.split() \n",
        "   print(f'{accountID:10} {name:10} {balance:10}')\n",
        "\n",
        "    "
      ],
      "metadata": {
        "id": "FCiqOGDUu6-t",
        "colab": {
          "base_uri": "https://localhost:8080/"
        },
        "outputId": "78caf1bf-5128-4296-e869-dcf74d3f2808"
      },
      "execution_count": 21,
      "outputs": [
        {
          "output_type": "stream",
          "name": "stdout",
          "text": [
            "AccountID  Name       Balance \n",
            "100        Jones      24.98     \n",
            "200        Doe        345.67    \n",
            "300        Williams   0.00      \n",
            "400        Stone      -42.16    \n",
            "500        Rich       224.62    \n"
          ]
        }
      ]
    },
    {
      "cell_type": "markdown",
      "source": [
        "# Module CSV"
      ],
      "metadata": {
        "id": "BieUazgSLMeI"
      }
    },
    {
      "cell_type": "markdown",
      "metadata": {
        "id": "KiOs3fgB9CD8"
      },
      "source": [
        "## Reading and Writing CSV file\n",
        "\n",
        "Text files work fine when we are referencing small amounts of information, but when we use larger amounts of data, adding structure helps in organizing and retrieving values. \n",
        "\n",
        "One common format found in business and social sciences alike (as well as any field concerned with data science) is the comma-separated values (CSV) format. \n",
        "\n",
        "**CSV files** are the most common format used for importing and exporting data from spreadsheets and databases. \n",
        "\n",
        "CSV files are text files that have delimiters.  A **delimiter** is a character that separates data values. \n",
        "\n",
        "You can explore CSV files in spreadsheet software (such as Microsoft Excel), which will remove delimiters (usually commas) and store data values in separate cells.\n",
        "\n",
        "\n",
        "One of the benefits of importing data files such as CSV files is the ability to read in a lot of data at once, parsing the data so your code can access individual values within the data. **By default, CSV files use commas (“,”) to separate data values**.\n",
        "\n"
      ]
    },
    {
      "cell_type": "markdown",
      "metadata": {
        "id": "-gWkazAAcPvU"
      },
      "source": [
        "Python **CSV module** provides functions for working with CSV files"
      ]
    },
    {
      "cell_type": "code",
      "execution_count": 30,
      "metadata": {
        "id": "RLTFUeGPDrfG"
      },
      "outputs": [],
      "source": [
        "### Writing to a CSV file ###\n",
        "\n",
        "#import csv module\n",
        "import csv\n",
        "\n",
        "#open file and write records\n",
        "with open(\"accounts.csv\",'w') as acc:\n",
        "  write = csv.writer(acc)\n",
        "  write.writerow(['AccountID', 'Name', \"Balance\"])\n",
        "  write.writerow([100,'Jones', 24.98])\n",
        "  write.writerow([200, 'Doe', 24.98])\n",
        "  write.writerow([300, 'Williams', 0.00])\n",
        "  write.writerow([200, 'Stone',-42.16])\n",
        "  write.writerow([200, 'Rich', 224.62])\n"
      ]
    },
    {
      "cell_type": "code",
      "execution_count": 31,
      "metadata": {
        "id": "IFTbzVzFeYz_",
        "colab": {
          "base_uri": "https://localhost:8080/"
        },
        "outputId": "c0ae5899-bb6e-44f4-8d91-57c862340a9f"
      },
      "outputs": [
        {
          "output_type": "stream",
          "name": "stdout",
          "text": [
            "AccountID  Name       Balance \n",
            "100        Jones      24.98   \n",
            "200        Doe        24.98   \n",
            "300        Williams   0.0     \n",
            "200        Stone      -42.16  \n",
            "200        Rich       224.62  \n"
          ]
        }
      ],
      "source": [
        "### Reading from CSV file ###\n",
        "\n",
        "#The csv module’s reader function returns an object that reads CSV-format data from the specified file object\n",
        "import csv\n",
        "#open file and read records\n",
        "with open(\"accounts.csv\",'r') as accRead:\n",
        "  reader = csv. reader(accRead)\n",
        "  for record in reader:\n",
        "    id, name, bal = record\n",
        "    print(f'{id:10} {name:10} {bal:8}')\n",
        "\n",
        "#open file and write records\n",
        "\n"
      ]
    },
    {
      "cell_type": "markdown",
      "source": [
        "## Getting data from financial website"
      ],
      "metadata": {
        "id": "g2lwtt9bRI4C"
      }
    },
    {
      "cell_type": "code",
      "source": [
        "!curl \"https://query1.finance.yahoo.com/v7/finance/download/NAB.AX?period1=1653004800&period2=1661040000&interval=1d&events=history&includeAdjustedClose=true\" > NABData.csv"
      ],
      "metadata": {
        "id": "fLGruaTOrSvD"
      },
      "execution_count": null,
      "outputs": []
    },
    {
      "cell_type": "code",
      "source": [
        "! curl \"https://query1.finance.yahoo.com/v7/finance/download/NAB.AX?period1=1629590400&period2=1661126400&interval=1d&events=history&includeAdjustedClose=true\""
      ],
      "metadata": {
        "id": "YkkG4vhhS6bu"
      },
      "execution_count": null,
      "outputs": []
    },
    {
      "cell_type": "code",
      "source": [
        "import csv\n",
        "\n",
        "# open file and write records\n",
        "with open(\"NABData.csv\",'r') as data:\n",
        "  reader = csv.reader(data)\n",
        "  print(next(reader))\n",
        "  print(next(reader))\n",
        "  print(next(reader))"
      ],
      "metadata": {
        "id": "8Mr72pnuwVt-",
        "colab": {
          "base_uri": "https://localhost:8080/"
        },
        "outputId": "00c98d3e-8f57-49a8-ac2a-2cd5b8eba541"
      },
      "execution_count": 40,
      "outputs": [
        {
          "output_type": "stream",
          "name": "stdout",
          "text": [
            "['Date', 'Open', 'High', 'Low', 'Close', 'Adj Close', 'Volume']\n",
            "['2022-05-20', '30.780001', '31.139999', '30.750000', '31.070000', '31.070000', '5341969']\n",
            "['2022-05-23', '31.070000', '31.150000', '30.735001', '30.780001', '30.780001', '4079073']\n"
          ]
        }
      ]
    },
    {
      "cell_type": "code",
      "source": [
        "import csv\n",
        "\n",
        "date =[]\n",
        "close=[]\n",
        "ctr = 0\n",
        "# open file and write records\n",
        "with open(\"NABData.csv\",'r') as data:\n",
        "  reader = csv.reader(data)\n",
        "  header = next(reader)\n",
        "  for record in reader:\n",
        "    date.append(record[0])\n",
        "    close.append(float(record[5]))\n",
        "    ctr = ctr +1\n",
        "    if ctr == 20:\n",
        "      break\n",
        "#print(date)\n",
        "\n",
        "\n",
        "# plot the results\n",
        "\n",
        "from matplotlib import pyplot as plt\n",
        "\n",
        "plt.plot(date, close)"
      ],
      "metadata": {
        "id": "BWv-WdWQrrIE",
        "colab": {
          "base_uri": "https://localhost:8080/",
          "height": 282
        },
        "outputId": "6d594e7d-37e4-49ed-9b8d-03891afeae99"
      },
      "execution_count": 42,
      "outputs": [
        {
          "output_type": "execute_result",
          "data": {
            "text/plain": [
              "[<matplotlib.lines.Line2D at 0x7fabc572cbd0>]"
            ]
          },
          "metadata": {},
          "execution_count": 42
        },
        {
          "output_type": "display_data",
          "data": {
            "text/plain": [
              "<Figure size 432x288 with 1 Axes>"
            ],
            "image/png": "[encoded data removed]"
          },
          "metadata": {
            "needs_background": "light"
          }
        }
      ]
    },
    {
      "cell_type": "markdown",
      "source": [
        "# Module Pandas"
      ],
      "metadata": {
        "id": "3urnKWF4LPwK"
      }
    },
    {
      "cell_type": "markdown",
      "metadata": {
        "id": "fKUibINgWaEg"
      },
      "source": [
        "## Using Pandas Module to Read in CSV Files (the “Easy Way”)\n",
        "\n",
        "An easier method of importing files into Python is using the **Pandas** module. Pandas (name derived from “panel data”) is a data analysis library that, among other things, makes reading in CSV files and accessing the contained data much easier \n",
        "\n",
        "The primary data structure used in Pandas are a ***DataFrame***. A DataFrame has a *two-dimensional tabular format using rows and columns*. Using a DataFrame, we can reference columns by name, rather than having to count to figure out which column number we want. Pandas provides an assortment of methods like .mean() that will do summary statistics on our data\n",
        "\n",
        " \n",
        "Read From a CSV File Using Pandas\n",
        "\n",
        "Source: *Kaefer, F., & Kaefer, P. (2020). Introduction to Python \n",
        "Programming for Business and Social Science Applications. SAGE Publications, Inc. (US).*"
      ]
    },
    {
      "cell_type": "code",
      "source": [
        "!curl \"https://query1.finance.yahoo.com/v7/finance/download/BHP.AX?period1=1629553321&period2=1661089321&interval=1d&events=history&includeAdjustedClose=true\" > BHPData.csv"
      ],
      "metadata": {
        "id": "RNGquOZONfU8"
      },
      "execution_count": null,
      "outputs": []
    },
    {
      "cell_type": "code",
      "execution_count": null,
      "metadata": {
        "id": "O0aJQTGiM0Tc"
      },
      "outputs": [],
      "source": [
        "#import pandas module\n",
        "import pandas as pd\n",
        "from matplotlib import pyplot as plt\n",
        "\n",
        "# Load the data\n",
        "\n"
      ]
    },
    {
      "cell_type": "markdown",
      "source": [
        "## Daily Return of Stock Data\n",
        "\n",
        "### Daily Return formula\n",
        "\n",
        "Visiting a financial website that provides stock price information. Type a company’s name or its stock’s ticker symbol. Find in the historical prices section the stock’s closing price for any two consecutive days. For example, assume a stock’s closing price was \\$36.75 yesterday and that its closing price was \\$35.50 the previous day. Subtract the previous day’s closing price from the most recent day’s closing price. In this example, subtract \\$35.50 from \\$36.75 to get \\$1.25.\n",
        "\n",
        "Now divide the results by the previous day's closing prices to calculate the daily return.  Multiply this by 100 to convert to a percentage.  So $1.25 divided by #35.50 equals 0.035.  Multiply 0.035 by 100 to 3.5 percent.\n",
        "\n",
        "    Daily return = (Today prices - Yesterday price) / Yesterday price\n",
        "\n",
        "\n",
        "\n",
        "To find the URL, navigate to Yahoo finance, type in NAB.AX, click the 'Historical' tab.  towards the right is a download option.  right click on the download link and select 'Copy Link Address' form the popup menu.  Now paste to the URL assignment statement."
      ],
      "metadata": {
        "id": "QqhiTK-eOCYC"
      }
    },
    {
      "cell_type": "code",
      "source": [
        "#import pandas module\n",
        "import pandas as pd\n",
        "from matplotlib import pyplot as plt\n",
        "\n",
        "# Load the data\n",
        "data = pd.read_csv('BHPData.csv')\n",
        "\n",
        "\n",
        "# Calculate the return\n",
        "data['Daily_return'] = data['Adj Close'] / data['Adj Close'].shift(1)-1\n",
        "\n",
        "# Plot the results\n",
        "plt.plot(data['Date'],data['Daily_return'])"
      ],
      "metadata": {
        "id": "L4l3gXQgOZAb"
      },
      "execution_count": null,
      "outputs": []
    },
    {
      "cell_type": "code",
      "source": [
        ""
      ],
      "metadata": {
        "id": "2FvF1fmkOY4z"
      },
      "execution_count": null,
      "outputs": []
    },
    {
      "cell_type": "markdown",
      "metadata": {
        "id": "gTo3bmwTEAbJ"
      },
      "source": [
        "Sources:\n",
        "\n",
        "* Kaefer, F., & Kaefer, P. (2020). Introduction to Python \n",
        "Programming for Business and Social Science Applications. SAGE Publications\n",
        "\n",
        "* Tony Gaddis, Starting out with Python, 5th Edition\n",
        "\n",
        "* Deitel & Deitel, Intro to Python for Computer Science and Data Science, Global Edition\n"
      ]
    }
  ],
  "metadata": {
    "colab": {
      "name": "05_Working_with_Files.ipynb",
      "provenance": [],
      "collapsed_sections": [],
      "include_colab_link": true
    },
    "kernelspec": {
      "display_name": "Python 3",
      "name": "python3"
    },
    "language_info": {
      "name": "python"
    }
  },
  "nbformat": 4,
  "nbformat_minor": 0
}