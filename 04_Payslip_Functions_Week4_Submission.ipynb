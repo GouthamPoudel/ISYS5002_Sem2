{
  "nbformat": 4,
  "nbformat_minor": 0,
  "metadata": {
    "colab": {
      "name": "04_Payslip_Functions-Week4_Submission.ipynb",
      "provenance": [],
      "collapsed_sections": [],
      "include_colab_link": true
    },
    "kernelspec": {
      "name": "python3",
      "display_name": "Python 3"
    },
    "language_info": {
      "name": "python"
    }
  },
  "cells": [
    {
      "cell_type": "markdown",
      "metadata": {
        "id": "view-in-github",
        "colab_type": "text"
      },
      "source": [
        "<a href=\"https://colab.research.google.com/github/GouthamPoudel/ISYS5002_Sem2/blob/main/04_Payslip_Functions_Week4_Submission.ipynb\" target=\"_parent\"><img src=\"https://colab.research.google.com/assets/colab-badge.svg\" alt=\"Open In Colab\"/></a>"
      ]
    },
    {
      "cell_type": "markdown",
      "source": [
        "# Task: Write a program to print out a payslip for hourly paid employees. <br>\n",
        "Modify the Gross pay & paylisp activities to print out a payslip for hourly paid employees.<br>Refer to week 2's Gross Pay and week 3's Payslip submission activities.\n",
        "\n",
        "[What has to be on a pay slip?](https://www.fairwork.gov.au/pay-and-wages/paying-wages/pay-slips#what-has-to-be-on-a-pay-slip)\n",
        "\n",
        "[Resident tax rates 2022–23](https://www.ato.gov.au/rates/individual-income-tax-rates/)"
      ],
      "metadata": {
        "id": "2jQsL4QPFfuG"
      }
    },
    {
      "cell_type": "markdown",
      "source": [
        "# Implement this Payslip program as functions:\n",
        "\n",
        "- Function to receive details to calculate income\n",
        "- Function to calculate income, tax payable & income after tax\n",
        "- Function to print the payslip with details: \n",
        "> employee name, hourly pay rate, hours worked, gross income, tax payable, income after tax\n",
        "\n"
      ],
      "metadata": {
        "id": "u6HZryjcFBok"
      }
    },
    {
      "cell_type": "markdown",
      "source": [
        "## Step 1: Get Income details"
      ],
      "metadata": {
        "id": "r2IUoUrsGfyW"
      }
    },
    {
      "cell_type": "code",
      "source": [
        "def weeklyPaid(hours_worked,wage):\n",
        "    \n",
        "    if hours_worked > 40:\n",
        "        return 40 * wage + (hours_worked - 40) * wage * 1.5\n",
        "    else:\n",
        "        return hours_worked * wage\n",
        "name = (input(\"Employee name: \"))\n",
        "hours_worked = input(\"Number of hour worked in a week: \")\n",
        "wage = input(\"Wage per hour: \")\n",
        "\n",
        "week_income = weeklyPaid(float(hours_worked), float(wage)) \n",
        "income = weeklyPaid(float(hours_worked), float(wage)) * 52\n",
        "print('Weekly income is:', week_income)\n",
        "print(\"Annual income is:\", income)"
      ],
      "metadata": {
        "id": "BQq3gCd1GVwf",
        "colab": {
          "base_uri": "https://localhost:8080/"
        },
        "outputId": "a8120696-d121-4be3-bdb0-202ab76fa0ca"
      },
      "execution_count": 9,
      "outputs": [
        {
          "output_type": "stream",
          "name": "stdout",
          "text": [
            "Employee name: Goutham\n",
            "Number of hour worked in a week: 20\n",
            "Wage per hour: 20\n",
            "Weekly income is: 400.0\n",
            "Annual income is: 20800.0\n"
          ]
        }
      ]
    },
    {
      "cell_type": "markdown",
      "source": [
        "## Step 2: Calculate the income, tax payable & income after tax"
      ],
      "metadata": {
        "id": "pgt-5XVqGnWG"
      }
    },
    {
      "cell_type": "code",
      "source": [
        "def calculate_tax_payable(income):\n",
        "  if income <= 18200:\n",
        "    tax_payable = 0\n",
        "  elif 18201 <= income <= 45000:\n",
        "    tax_payable = (income - 18200) *0.19\n",
        "  elif 45000 < income <= 120000:\n",
        "    tax_payable = ((income - 45000) *0.325) + 5092\n",
        "  elif 120001 <= income <= 180000:\n",
        "    tax_payable = ((income - 120000) *0.37) + 29467\n",
        "  else:\n",
        "    tax_payable = ((income - 120000) *0.45) + 51667\n",
        "  \n",
        "  return tax_payable\n",
        "\n",
        "taxPay = calculate_tax_payable(income)\n",
        "print(\"Total tax payable:\", taxPay)"
      ],
      "metadata": {
        "id": "WIXvwfVVGtbM",
        "colab": {
          "base_uri": "https://localhost:8080/"
        },
        "outputId": "7afd0958-6246-4aad-8d93-649524ecbf35"
      },
      "execution_count": 11,
      "outputs": [
        {
          "output_type": "stream",
          "name": "stdout",
          "text": [
            "Total tax payable: 494.0\n"
          ]
        }
      ]
    },
    {
      "cell_type": "markdown",
      "source": [
        "## Step 3: Print the payslip"
      ],
      "metadata": {
        "id": "kO2J7-wTGt-k"
      }
    },
    {
      "cell_type": "code",
      "source": [
        "def output(income, tax_payable):\n",
        "  print(\"==============================================\")\n",
        "  print(\"NAME OF EMPLOYEE : \",name)\n",
        "  print(\"THE GROSS INCOME IS $\", income, sep='')\n",
        "  print(\"The TAX PAYABLE IS $\", tax_payable, sep='')\n",
        "  finalIncome = income - tax_payable\n",
        "  print(\"THE INCOME AFTER TAX IS $ \", finalIncome, sep='')\n",
        "output(income, taxPay)"
      ],
      "metadata": {
        "id": "Q0NmbiWUG7A8",
        "colab": {
          "base_uri": "https://localhost:8080/"
        },
        "outputId": "cef080b9-908e-470d-b9c5-7e5d3809fe62"
      },
      "execution_count": 12,
      "outputs": [
        {
          "output_type": "stream",
          "name": "stdout",
          "text": [
            "==============================================\n",
            "NAME OF EMPLOYEE :  Goutham\n",
            "THE GROSS INCOME IS $20800.0\n",
            "The TAX PAYABLE IS $494.0\n",
            "THE INCOME AFTER TAX IS $ 20306.0\n"
          ]
        }
      ]
    },
    {
      "cell_type": "markdown",
      "metadata": {
        "id": "BNdsJ9jszwRi"
      },
      "source": [
        "## Task 2 - Complete the program"
      ]
    },
    {
      "cell_type": "code",
      "execution_count": 7,
      "metadata": {
        "id": "pd8m2I1uMuAu",
        "colab": {
          "base_uri": "https://localhost:8080/"
        },
        "outputId": "7a241280-bceb-4c40-a6db-6626b744f07c"
      },
      "outputs": [
        {
          "output_type": "stream",
          "name": "stdout",
          "text": [
            "Employee name: goutham\n",
            "Number of hour worked in a week: 12\n",
            "Wage per hour: 12\n",
            "\n",
            "\n",
            " S A L A R Y   B R E A K U P\n",
            "==============================================\n",
            "NAME OF EMPLOYEE :  goutham\n",
            "Weekly income is: 144.0\n",
            "THE GROSS INCOME IS: $7488.0\n",
            "The TAX PAYABLE IS: $0\n",
            "THE INCOME AFTER TAX IS: $ 7488.0\n"
          ]
        }
      ],
      "source": [
        "# 'Main line'\n",
        "\n",
        "# Step 1 - Get details\n",
        "def weeklyPaid(hours_worked,wage):\n",
        "    \n",
        "    if hours_worked > 40:\n",
        "        return 40 * wage + (hours_worked - 40) * wage * 1.5\n",
        "    else:\n",
        "        return hours_worked * wage\n",
        "name = (input(\"Employee name: \"))\n",
        "hours_worked = input(\"Number of hour worked in a week: \")\n",
        "wage = input(\"Wage per hour: \")\n",
        "\n",
        "week_income = weeklyPaid(float(hours_worked), float(wage)) \n",
        "income = weeklyPaid(float(hours_worked), float(wage)) * 52\n",
        "\n",
        "\n",
        "# Step 2 - Calculate \n",
        "def calculate_tax_payable(income):\n",
        "  if income <= 18200:\n",
        "    tax_payable = 0\n",
        "  elif 18201 <= income <= 45000:\n",
        "    tax_payable = (income - 18200) *0.19\n",
        "  elif 45000 < income <= 120000:\n",
        "    tax_payable = ((income - 45000) *0.325) + 5092\n",
        "  elif 120001 <= income <= 180000:\n",
        "    tax_payable = ((income - 120000) *0.37) + 29467\n",
        "  else:\n",
        "    tax_payable = ((income - 120000) *0.45) + 51667\n",
        "  \n",
        "  return tax_payable\n",
        "\n",
        "taxPay = calculate_tax_payable(income)\n",
        "\n",
        "# Step 3 - Output result - Print payslip\n",
        "def output(income, tax_payable):\n",
        "  print('\\n')\n",
        "  print(\" S A L A R Y   B R E A K U P\")\n",
        "  print(\"==============================================\")\n",
        "  print(\"NAME OF EMPLOYEE : \",name)\n",
        "  print('Weekly income is:', week_income)\n",
        "  print(\"THE GROSS INCOME IS: $\", income, sep='')\n",
        "  print(\"The TAX PAYABLE IS: $\", tax_payable, sep='')\n",
        "  finalIncome = income - tax_payable\n",
        "  print(\"THE INCOME AFTER TAX IS: $ \", finalIncome, sep='')\n",
        "output(income, taxPay)\n",
        "\n"
      ]
    }
  ]
}