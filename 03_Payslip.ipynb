{
  "nbformat": 4,
  "nbformat_minor": 0,
  "metadata": {
    "colab": {
      "name": "03_Payslip.ipynb",
      "provenance": [],
      "include_colab_link": true
    },
    "kernelspec": {
      "name": "python3",
      "display_name": "Python 3"
    },
    "language_info": {
      "name": "python"
    }
  },
  "cells": [
    {
      "cell_type": "markdown",
      "metadata": {
        "id": "view-in-github",
        "colab_type": "text"
      },
      "source": [
        "<a href=\"https://colab.research.google.com/github/GouthamPoudel/ISYS5002_Sem2/blob/main/03_Payslip.ipynb\" target=\"_parent\"><img src=\"https://colab.research.google.com/assets/colab-badge.svg\" alt=\"Open In Colab\"/></a>"
      ]
    },
    {
      "cell_type": "markdown",
      "source": [
        "# Task: Write a program to print out a payslip for hourly paid employees. <br>\n",
        "Modify the Gross pay activity to print out a payslip for hourly paid employees.<br>Refer to week 2's Gross Pay activity.\n",
        "\n",
        "[What has to be on a pay slip?](https://www.fairwork.gov.au/pay-and-wages/paying-wages/pay-slips#what-has-to-be-on-a-pay-slip)\n",
        "\n",
        "[Resident tax rates 2022–23](https://www.ato.gov.au/rates/individual-income-tax-rates/)"
      ],
      "metadata": {
        "id": "2jQsL4QPFfuG"
      }
    },
    {
      "cell_type": "markdown",
      "source": [
        "1. get the hours worked by the employee then display the total earning"
      ],
      "metadata": {
        "id": "XBVtmXLUw1nS"
      }
    },
    {
      "cell_type": "markdown",
      "source": [
        "input- hours work\n",
        "processing\n",
        "output- total paid"
      ],
      "metadata": {
        "id": "yHBewyNTxABw"
      }
    },
    {
      "cell_type": "markdown",
      "source": [
        "work by hand\n",
        "\n",
        "if hours worked 8 then payment is 1600\n",
        "if hours works is less than 8 then pay less 5% per hour\n",
        "total pay = 1600 - lesspay\n",
        "if hours works is more than 8 then pay more 5% per hour\n",
        "tatal pay = 1600 + morepay\n"
      ],
      "metadata": {
        "id": "zBZ68IKixdvM"
      }
    },
    {
      "cell_type": "markdown",
      "source": [
        "get the hours worked\n",
        "calculate\n",
        "display the total"
      ],
      "metadata": {
        "id": "Ck3aId5i0CRt"
      }
    },
    {
      "cell_type": "markdown",
      "source": [
        ""
      ],
      "metadata": {
        "id": "WuASA0JW0OMw"
      }
    },
    {
      "cell_type": "code",
      "execution_count": null,
      "metadata": {
        "id": "bKtEUVfhD1GO"
      },
      "outputs": [],
      "source": [
        "wrk_hr= float(input('Enter working hours: ')) #get the working hours\n",
        "\n",
        "if(wrk_hr == 8):\n",
        "  print('Toal: 1600')\n",
        "\n",
        "elif(wrk_hr >= 1 and wrk_hr<8):\n",
        "  less_hr = 8 - wrk_hr\n",
        "  less_pay = ((1600*5)/100) * less_hr\n",
        "  total_pay = 1600 - less_pay\n",
        "\n",
        "  print('less hours:', less_hr)\n",
        "  print('less pay:', less_pay)\n",
        "  print('Total:', total_pay)\n",
        "\n",
        "elif(wrk_hr > 8 and wrk_hr <= 15):\n",
        "  extra_hr = wrk_hr - 8\n",
        "  extra_pay = ((1600*5)/100) * extra_hr\n",
        "  total_pay = 1600 + extra_pay\n",
        "\n",
        "  print('extra hours:', extra_hr)\n",
        "  print('extra pay:', extra_pay )\n",
        "  print('Total:', total_pay)\n",
        "\n",
        "else:\n",
        "  print('Zero hours worked')\n"
      ]
    }
  ]
}