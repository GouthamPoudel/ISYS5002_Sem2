{
  "nbformat": 4,
  "nbformat_minor": 0,
  "metadata": {
    "colab": {
      "name": "Sundae_Winner.ipynb",
      "provenance": [],
      "authorship_tag": "ABX9TyOT2JCeZClYB6YoVYCBwMfU",
      "include_colab_link": true
    },
    "kernelspec": {
      "name": "python3",
      "display_name": "Python 3"
    },
    "language_info": {
      "name": "python"
    }
  },
  "cells": [
    {
      "cell_type": "markdown",
      "metadata": {
        "id": "view-in-github",
        "colab_type": "text"
      },
      "source": [
        "<a href=\"https://colab.research.google.com/github/GouthamPoudel/ISYS5002_Sem2/blob/main/Sundae_Winner.ipynb\" target=\"_parent\"><img src=\"https://colab.research.google.com/assets/colab-badge.svg\" alt=\"Open In Colab\"/></a>"
      ]
    },
    {
      "cell_type": "markdown",
      "source": [
        "Sundae_Winner Code with Comments"
      ],
      "metadata": {
        "id": "tiBlC8CgmqnT"
      }
    },
    {
      "cell_type": "code",
      "execution_count": 15,
      "metadata": {
        "colab": {
          "base_uri": "https://localhost:8080/"
        },
        "id": "HHNgn9zujFpo",
        "outputId": "cfcecb45-ec7d-47c9-9bb7-23a4642f3528"
      },
      "outputs": [
        {
          "output_type": "stream",
          "name": "stdout",
          "text": [
            " Congratulations jacob you have won an ice cream sundae\n",
            "Would you like a cherry on top ? yes\n",
            "One vanilla sundae with a cherry on top for jacob comming right up...\n"
          ]
        }
      ],
      "source": [
        "import random \n",
        "\n",
        "customers = ['jimmy', 'john', 'kim', 'jacob'] #make a list of customers\n",
        "\n",
        "winner = random.choice(customers)  #randomly choose one of the customer from the list\n",
        "\n",
        "flavour = 'vanilla' #set a variable flavour to the text vanila\n",
        "\n",
        "print(' Congratulations ' +str(winner)+ ' you have won an ice cream sundae') # print out a message to the screen that includes the winner name\n",
        "\n",
        "prompt = 'Would you like a cherry on top ? '  # set a variable prompt to the text\n",
        "\n",
        "wants_cherry = input(prompt) # request the user to type in some text\n",
        "\n",
        "order = flavour + ' sundae ' # set order to flavour plus sundae\n",
        "\n",
        "if (wants_cherry == 'yes'):  # if the we type yes then add the cherry on to for the order\n",
        "\n",
        "  order = order + 'with a cherry on top'\n",
        "\n",
        "print( 'One ' + str(order)+ ' for ' + str(winner) + ' comming right up...') # print out the winner order"
      ]
    }
  ]
}