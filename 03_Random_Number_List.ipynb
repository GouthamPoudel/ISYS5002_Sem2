{
  "nbformat": 4,
  "nbformat_minor": 0,
  "metadata": {
    "colab": {
      "name": "03_Random Number List.ipynb",
      "provenance": [],
      "collapsed_sections": [
        "rtiCoY2fXsOm"
      ],
      "include_colab_link": true
    },
    "kernelspec": {
      "name": "python3",
      "display_name": "Python 3"
    },
    "language_info": {
      "name": "python"
    }
  },
  "cells": [
    {
      "cell_type": "markdown",
      "metadata": {
        "id": "view-in-github",
        "colab_type": "text"
      },
      "source": [
        "<a href=\"https://colab.research.google.com/github/GouthamPoudel/ISYS5002_Sem2/blob/main/03_Random_Number_List.ipynb\" target=\"_parent\"><img src=\"https://colab.research.google.com/assets/colab-badge.svg\" alt=\"Open In Colab\"/></a>"
      ]
    },
    {
      "cell_type": "markdown",
      "source": [
        "## Task 0: Save the notebook to Github"
      ],
      "metadata": {
        "id": "rtiCoY2fXsOm"
      }
    },
    {
      "cell_type": "markdown",
      "source": [
        "## Task 1: Randomly generate numbers and store them in a list"
      ],
      "metadata": {
        "id": "JrutiGpyXUx3"
      }
    },
    {
      "cell_type": "code",
      "execution_count": 14,
      "metadata": {
        "id": "XaXgvcY-XNE_",
        "colab": {
          "base_uri": "https://localhost:8080/"
        },
        "outputId": "14bb2ee0-f7b3-4582-ed0d-9f7edd40bf61"
      },
      "outputs": [
        {
          "output_type": "stream",
          "name": "stdout",
          "text": [
            "[21, 71, 20, 70, 32, 62, 78]\n",
            "[21, 71]\n",
            "[20, 70, 32, 62, 78]\n"
          ]
        }
      ],
      "source": [
        "import random\n",
        "randlist = [] # creating an empty list\n",
        "oddlist = []\n",
        "evenlist = []\n",
        "\n",
        "for i in range (1,8):\n",
        "  randnum = random.randint(10,80)\n",
        "  randlist.append(randnum)\n",
        "\n",
        "  if randnum % 2 == 0 :\n",
        "    evenlist.append(randnum)\n",
        "\n",
        "  else:\n",
        "    oddlist.append(randnum)\n",
        "\n",
        "print(randlist)\n",
        "print(oddlist)\n",
        "print(evenlist)\n"
      ]
    },
    {
      "cell_type": "markdown",
      "source": [
        "## Optional: \n",
        "### Randomly generate numbers and store in two lists: odd and even.\n",
        "### For each list find the minimum, maximum and average"
      ],
      "metadata": {
        "id": "zjjcoEONXf23"
      }
    },
    {
      "cell_type": "code",
      "source": [
        "print('The minimun num in odd list is:', min(oddlist))\n",
        "print('The max num in even list is:', max(evenlist))\n",
        "print('The average of odd and even list is;', sum(list(oddlist) + list(evenlist))/ len(list(oddlist) + list(evenlist)))"
      ],
      "metadata": {
        "id": "ZduCTWusYA1m",
        "colab": {
          "base_uri": "https://localhost:8080/"
        },
        "outputId": "97aee6ad-bcbe-42ee-e0ee-12ba7c25749b"
      },
      "execution_count": 15,
      "outputs": [
        {
          "output_type": "stream",
          "name": "stdout",
          "text": [
            "The minimun num in odd list is: 21\n",
            "The max num in even list is: 78\n",
            "The average of odd and even list is; 50.57142857142857\n"
          ]
        }
      ]
    }
  ]
}