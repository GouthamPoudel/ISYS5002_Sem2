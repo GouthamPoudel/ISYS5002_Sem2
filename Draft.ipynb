{
  "nbformat": 4,
  "nbformat_minor": 0,
  "metadata": {
    "colab": {
      "name": "Draft.ipynb",
      "provenance": [],
      "collapsed_sections": [],
      "authorship_tag": "ABX9TyMgYchGzLb8A8JKWV9kquok",
      "include_colab_link": true
    },
    "kernelspec": {
      "name": "python3",
      "display_name": "Python 3"
    },
    "language_info": {
      "name": "python"
    }
  },
  "cells": [
    {
      "cell_type": "markdown",
      "metadata": {
        "id": "view-in-github",
        "colab_type": "text"
      },
      "source": [
        "<a href=\"https://colab.research.google.com/github/GouthamPoudel/ISYS5002_Sem2/blob/main/Draft.ipynb\" target=\"_parent\"><img src=\"https://colab.research.google.com/assets/colab-badge.svg\" alt=\"Open In Colab\"/></a>"
      ]
    },
    {
      "cell_type": "code",
      "execution_count": 1,
      "metadata": {
        "colab": {
          "base_uri": "https://localhost:8080/"
        },
        "id": "33DOW94l8HTT",
        "outputId": "8ad5e0d0-0aff-4d23-b1f1-693712282f43"
      },
      "outputs": [
        {
          "output_type": "stream",
          "name": "stdout",
          "text": [
            "Employee name: GOUTHAM\n",
            "Number of hour worked in a week: 40\n",
            "Wage per hour: 20\n",
            "==============================================\n",
            "NAME OF EMPLOYEE :  GOUTHAM\n",
            "THE GROSS INCOME IS $41600.0\n",
            "The TAX PAYABLE IS $4446.0\n",
            "THE INCOME AFTER TAX IS $ 37154.0\n"
          ]
        }
      ],
      "source": [
        "\n",
        "def weeklyPaid(hours_worked,wage):\n",
        "    \n",
        "    if hours_worked > 40:\n",
        "        return 40 * wage + (hours_worked - 40) * wage * 1.5\n",
        "    else:\n",
        "        return hours_worked * wage\n",
        "name = (input(\"Employee name: \"))\n",
        "hours_worked = input(\"Number of hour worked in a week: \")\n",
        "wage = input(\"Wage per hour: \")\n",
        " \n",
        "income = weeklyPaid(float(hours_worked), float(wage)) * 52\n",
        "\n",
        "def calculate_tax_payable(income):\n",
        "  if income <= 18200:\n",
        "    tax_payable = 0\n",
        "  elif 18201 <= income <= 45000:\n",
        "    tax_payable = (income - 18200) *0.19\n",
        "  elif 45000 < income <= 120000:\n",
        "    tax_payable = ((income - 45000) *0.325) + 5092\n",
        "  elif 120001 <= income <= 180000:\n",
        "    tax_payable = ((income - 120000) *0.37) + 29467\n",
        "  else:\n",
        "    tax_payable = ((income - 120000) *0.45) + 51667\n",
        "  \n",
        "  return tax_payable\n",
        "\n",
        "taxPay = calculate_tax_payable(income)\n",
        "\n",
        "def output(income, tax_payable):\n",
        "  print(\"==============================================\")\n",
        "  print(\"NAME OF EMPLOYEE : \",name)\n",
        "  print(\"THE GROSS INCOME IS $\", income, sep='')\n",
        "  print(\"The TAX PAYABLE IS $\", tax_payable, sep='')\n",
        "  finalIncome = income - tax_payable\n",
        "  print(\"THE INCOME AFTER TAX IS $ \", finalIncome, sep='')\n",
        "output(income, taxPay)\n"
      ]
    }
  ]
}